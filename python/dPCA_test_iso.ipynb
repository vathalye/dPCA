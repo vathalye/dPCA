{
 "cells": [
  {
   "cell_type": "code",
   "execution_count": 1,
   "metadata": {
    "collapsed": false,
    "jupyter": {
     "outputs_hidden": false
    }
   },
   "outputs": [
    {
     "name": "stdout",
     "output_type": "stream",
     "text": [
      "%pylab is deprecated, use %matplotlib inline and import the required libraries.\n",
      "Populating the interactive namespace from numpy and matplotlib\n"
     ]
    }
   ],
   "source": [
    "%pylab inline\n",
    "from numpy import *\n",
    "from numpy.random import rand, randn, randint\n",
    "from dPCA import dPCA"
   ]
  },
  {
   "cell_type": "code",
   "execution_count": 2,
   "metadata": {},
   "outputs": [],
   "source": [
    "import os"
   ]
  },
  {
   "cell_type": "markdown",
   "metadata": {},
   "source": [
    "Load real data and construct tensor for dPCA"
   ]
  },
  {
   "cell_type": "code",
   "execution_count": 4,
   "metadata": {},
   "outputs": [
    {
     "name": "stdout",
     "output_type": "stream",
     "text": [
      "True\n"
     ]
    },
    {
     "ename": "UnpicklingError",
     "evalue": "Failed to interpret file 'Z:\\\\Ines\\\\Data_analysis\\\\Pickles\\\\NY125\\\\2019-09-17\\\\vivek\\\\nf.pkl' as a pickle",
     "output_type": "error",
     "traceback": [
      "\u001b[1;31m---------------------------------------------------------------------------\u001b[0m",
      "\u001b[1;31mModuleNotFoundError\u001b[0m                       Traceback (most recent call last)",
      "File \u001b[1;32mC:\\Anaconda3\\envs\\dpca\\Lib\\site-packages\\numpy\\lib\\npyio.py:465\u001b[0m, in \u001b[0;36mload\u001b[1;34m(file, mmap_mode, allow_pickle, fix_imports, encoding, max_header_size)\u001b[0m\n\u001b[0;32m    464\u001b[0m \u001b[38;5;28;01mtry\u001b[39;00m:\n\u001b[1;32m--> 465\u001b[0m     \u001b[38;5;28;01mreturn\u001b[39;00m pickle\u001b[38;5;241m.\u001b[39mload(fid, \u001b[38;5;241m*\u001b[39m\u001b[38;5;241m*\u001b[39mpickle_kwargs)\n\u001b[0;32m    466\u001b[0m \u001b[38;5;28;01mexcept\u001b[39;00m \u001b[38;5;167;01mException\u001b[39;00m \u001b[38;5;28;01mas\u001b[39;00m e:\n",
      "\u001b[1;31mModuleNotFoundError\u001b[0m: No module named 'pandas'",
      "\nThe above exception was the direct cause of the following exception:\n",
      "\u001b[1;31mUnpicklingError\u001b[0m                           Traceback (most recent call last)",
      "Cell \u001b[1;32mIn[4], line 12\u001b[0m\n\u001b[0;32m      9\u001b[0m data_path \u001b[38;5;241m=\u001b[39m os\u001b[38;5;241m.\u001b[39mpath\u001b[38;5;241m.\u001b[39mjoin(data_dir, file)\n\u001b[0;32m     10\u001b[0m \u001b[38;5;28mprint\u001b[39m(os\u001b[38;5;241m.\u001b[39mpath\u001b[38;5;241m.\u001b[39mexists(data_path))\n\u001b[1;32m---> 12\u001b[0m ld \u001b[38;5;241m=\u001b[39m np\u001b[38;5;241m.\u001b[39mload(data_path, allow_pickle\u001b[38;5;241m=\u001b[39m\u001b[38;5;28;01mTrue\u001b[39;00m)\n",
      "File \u001b[1;32mC:\\Anaconda3\\envs\\dpca\\Lib\\site-packages\\numpy\\lib\\npyio.py:467\u001b[0m, in \u001b[0;36mload\u001b[1;34m(file, mmap_mode, allow_pickle, fix_imports, encoding, max_header_size)\u001b[0m\n\u001b[0;32m    465\u001b[0m     \u001b[38;5;28;01mreturn\u001b[39;00m pickle\u001b[38;5;241m.\u001b[39mload(fid, \u001b[38;5;241m*\u001b[39m\u001b[38;5;241m*\u001b[39mpickle_kwargs)\n\u001b[0;32m    466\u001b[0m \u001b[38;5;28;01mexcept\u001b[39;00m \u001b[38;5;167;01mException\u001b[39;00m \u001b[38;5;28;01mas\u001b[39;00m e:\n\u001b[1;32m--> 467\u001b[0m     \u001b[38;5;28;01mraise\u001b[39;00m pickle\u001b[38;5;241m.\u001b[39mUnpicklingError(\n\u001b[0;32m    468\u001b[0m         \u001b[38;5;124mf\u001b[39m\u001b[38;5;124m\"\u001b[39m\u001b[38;5;124mFailed to interpret file \u001b[39m\u001b[38;5;132;01m{\u001b[39;00mfile\u001b[38;5;132;01m!r}\u001b[39;00m\u001b[38;5;124m as a pickle\u001b[39m\u001b[38;5;124m\"\u001b[39m) \u001b[38;5;28;01mfrom\u001b[39;00m \u001b[38;5;21;01me\u001b[39;00m\n",
      "\u001b[1;31mUnpicklingError\u001b[0m: Failed to interpret file 'Z:\\\\Ines\\\\Data_analysis\\\\Pickles\\\\NY125\\\\2019-09-17\\\\vivek\\\\nf.pkl' as a pickle"
     ]
    }
   ],
   "source": [
    "# NY125, 2019-09-17\n",
    "\n",
    "animal = 'NY125'\n",
    "date = '2019-09-17'\n",
    "\n",
    "file = 'nf.pkl'\n",
    "data_home = r'Z:\\Ines\\Data_analysis\\Pickles'\n",
    "data_dir = os.path.join(data_home, animal, date, 'vivek')\n",
    "data_path = os.path.join(data_dir, file)\n",
    "print(os.path.exists(data_path))\n",
    "\n",
    "ld = np.load(data_path, allow_pickle=True)"
   ]
  },
  {
   "cell_type": "code",
   "execution_count": null,
   "metadata": {},
   "outputs": [],
   "source": [
    "#construct trialR\n",
    "#shape: #trials X neurons X actions X forces\n",
    "#4 neurons, 2 actions, 3 forces\n",
    "num_neurons = 4\n",
    "#Make trial dictionaries and then assemble them into a tensor\n",
    "force_array = np.array([0, 1, 2]); \n",
    "num_force = len(force_array)\n",
    "action_list = ['A', 'B']\n",
    "num_actions = len(action_list)\n",
    "\n",
    "X = np.zeros((num_neurons, num_action, num_force))\n",
    "\n",
    "#------------------------------\n",
    "i_n = 0\n",
    "\n",
    "i_a = 0\n",
    "offset=0\n",
    "slope=1\n",
    "y = force_array*slope+offset\n",
    "X[i_n, i_a, :] = y\n",
    "\n",
    "i_a = 1\n",
    "offset=0\n",
    "slope=1\n",
    "y = force_array*slope+offset\n",
    "X[i_n, i_a, :] = y\n",
    "\n",
    "#------------------------------\n",
    "i_n = 1\n",
    "\n",
    "i_a = 0\n",
    "offset=0\n",
    "slope=0\n",
    "y = force_array*slope+offset\n",
    "X[i_n, i_a, :] = y\n",
    "\n",
    "i_a = 1\n",
    "offset=1\n",
    "slope=0\n",
    "y = force_array*slope+offset\n",
    "X[i_n, i_a, :] = y\n",
    "\n",
    "#------------------------------\n",
    "i_n = 2\n",
    "\n",
    "i_a = 0\n",
    "offset=0\n",
    "slope=1\n",
    "y = force_array*slope+offset\n",
    "X[i_n, i_a, :] = y\n",
    "\n",
    "i_a = 1\n",
    "offset=0\n",
    "slope=0\n",
    "y = force_array*slope+offset\n",
    "X[i_n, i_a, :] = y\n",
    "\n",
    "#------------------------------\n",
    "i_n = 3\n",
    "\n",
    "i_a = 0\n",
    "offset=0\n",
    "slope=0\n",
    "y = force_array*slope+offset\n",
    "X[i_n, i_a, :] = y\n",
    "\n",
    "i_a = 1\n",
    "offset=0\n",
    "slope=1\n",
    "y = force_array*slope+offset\n",
    "X[i_n, i_a, :] = y"
   ]
  },
  {
   "cell_type": "code",
   "execution_count": null,
   "metadata": {},
   "outputs": [],
   "source": [
    "X.shape"
   ]
  },
  {
   "cell_type": "code",
   "execution_count": null,
   "metadata": {},
   "outputs": [],
   "source": [
    "X"
   ]
  },
  {
   "cell_type": "code",
   "execution_count": null,
   "metadata": {},
   "outputs": [],
   "source": [
    "for i_n in range(num_neurons):\n",
    "    plt.figure(figsize=(4,4))\n",
    "    for i_a in range(num_actions):\n",
    "        plt.plot(X[i_n, i_a,:])"
   ]
  },
  {
   "cell_type": "code",
   "execution_count": null,
   "metadata": {},
   "outputs": [],
   "source": [
    "num_trials = 10\n",
    "noise = 0.3\n",
    "\n",
    "trialR = randn(num_trials, num_neurons, num_actions, num_force)*noise\n",
    "trialR += X[None,:,:,:]\n",
    "\n",
    "trialR[5:,:,1,:] = np.nan #test setting some trials to nan\n",
    "\n",
    "#trial-average data\n",
    "R = np.nanmean(trialR, 0)\n",
    "\n",
    "# center data\n",
    "R -= np.nanmean(R.reshape((num_neurons,-1)),1)[:,None,None]"
   ]
  },
  {
   "cell_type": "code",
   "execution_count": null,
   "metadata": {},
   "outputs": [],
   "source": [
    "for i_n in range(num_neurons):\n",
    "    plt.figure(figsize=(4,4))\n",
    "    for i_a in range(num_actions):\n",
    "        for i_tr in range(num_trials):\n",
    "            plt.plot(trialR[i_tr, i_n, i_a,:])\n",
    "\n",
    "# for i_n in range(num_neurons):\n",
    "#     plt.figure(figsize=(4,4))\n",
    "#     for i_a in range(num_actions):\n",
    "#         plt.plot(R[i_n, i_a,:], '.-', markersize=10, label='action '+action_list[i_a])\n",
    "#     plt.xlabel('force (bin)')\n",
    "#     plt.ylabel('activity')\n",
    "#     plt.title('neuron '+str(i_n))\n",
    "#     plt.legend()"
   ]
  },
  {
   "cell_type": "code",
   "execution_count": null,
   "metadata": {},
   "outputs": [],
   "source": [
    "trialR.shape #trials X neurons X num_actions X num_force"
   ]
  },
  {
   "cell_type": "code",
   "execution_count": null,
   "metadata": {},
   "outputs": [],
   "source": [
    "R.shape #neurons X num_actions X num_force"
   ]
  },
  {
   "cell_type": "code",
   "execution_count": null,
   "metadata": {},
   "outputs": [],
   "source": [
    "del dpca"
   ]
  },
  {
   "cell_type": "code",
   "execution_count": null,
   "metadata": {
    "collapsed": false,
    "jupyter": {
     "outputs_hidden": false
    }
   },
   "outputs": [],
   "source": [
    "dpca = dPCA.dPCA(labels='af',regularizer='auto')\n",
    "dpca.protect = []"
   ]
  },
  {
   "cell_type": "markdown",
   "metadata": {},
   "source": [
    "Now fit the data (R) using the model we just instatiated. Note that we only need trial-to-trial data when we want to optimize over the regularization parameter."
   ]
  },
  {
   "cell_type": "code",
   "execution_count": null,
   "metadata": {
    "collapsed": false,
    "jupyter": {
     "outputs_hidden": false
    }
   },
   "outputs": [],
   "source": [
    "Z = dpca.fit_transform(R,trialR)"
   ]
  },
  {
   "cell_type": "code",
   "execution_count": null,
   "metadata": {},
   "outputs": [],
   "source": [
    "Z.keys()"
   ]
  },
  {
   "cell_type": "code",
   "execution_count": null,
   "metadata": {},
   "outputs": [],
   "source": [
    "Z['a'].shape"
   ]
  },
  {
   "cell_type": "code",
   "execution_count": null,
   "metadata": {},
   "outputs": [],
   "source": [
    "Z['f'].shape"
   ]
  },
  {
   "cell_type": "code",
   "execution_count": null,
   "metadata": {},
   "outputs": [],
   "source": [
    "\n",
    "# figure(figsize=(16,7))\n",
    "figure(figsize=(15,4.5))\n",
    "\n",
    "i_comp = 0\n",
    "subplot(131)\n",
    "\n",
    "for a in range(num_actions):\n",
    "    plot(force_array, Z['a'][i_comp,a], '.-', markersize=10, label='action '+action_list[i_a])\n",
    "xlabel('force (bin)')\n",
    "title('1st action component')\n",
    "legend()\n",
    "    \n",
    "subplot(132)\n",
    "\n",
    "for a in range(num_actions):\n",
    "    plot(force_array,Z['f'][i_comp,a], '.-', markersize=10, label='action '+action_list[i_a])\n",
    "xlabel('force (bin)')\n",
    "title('1st force component')\n",
    "legend()\n",
    "    \n",
    "subplot(133)\n",
    "\n",
    "for a in range(num_actions):\n",
    "    plot(force_array,Z['af'][i_comp,a], '.-', markersize=10, label='action '+action_list[i_a])\n",
    "xlabel('force (bin)')\n",
    "title('1st action-force component')\n",
    "legend()\n",
    "show()"
   ]
  },
  {
   "cell_type": "markdown",
   "metadata": {},
   "source": [
    "The 1st mixing component looks merely like noise. But to be sure, we can run a significance analysis:"
   ]
  },
  {
   "cell_type": "code",
   "execution_count": null,
   "metadata": {},
   "outputs": [],
   "source": []
  },
  {
   "cell_type": "code",
   "execution_count": null,
   "metadata": {
    "collapsed": false,
    "jupyter": {
     "outputs_hidden": false
    }
   },
   "outputs": [],
   "source": [
    "significance_masks = dpca.significance_analysis(R,  trialR, n_shuffles=10, n_splits=10, n_consecutive)"
   ]
  },
  {
   "cell_type": "markdown",
   "metadata": {},
   "source": [
    "We can highlight the significant parts of the demixed components with a black bar underneath. Note that there is no significant analysis time, since there are no classes to compute the significance over."
   ]
  },
  {
   "cell_type": "code",
   "execution_count": null,
   "metadata": {
    "collapsed": false,
    "jupyter": {
     "outputs_hidden": false
    }
   },
   "outputs": [],
   "source": [
    "time = arange(T)\n",
    "\n",
    "figure(figsize=(16,7))\n",
    "subplot(131)\n",
    "\n",
    "for s in range(S):\n",
    "    plot(time,Z['t'][0,s])\n",
    "\n",
    "title('1st time component')\n",
    "    \n",
    "subplot(132)\n",
    "\n",
    "for s in range(S):\n",
    "    plot(time,Z['s'][0,s])\n",
    "\n",
    "imshow(significance_masks['s'][0][None,:],extent=[0,250,amin(Z['s'])-1,amin(Z['s'])-0.5],aspect='auto',cmap='gray_r',vmin=0,vmax=1)\n",
    "ylim([amin(Z['s'])-1,amax(Z['s'])+1])\n",
    "\n",
    "title('1st stimulus component')\n",
    "    \n",
    "subplot(133)\n",
    "\n",
    "for s in range(S):\n",
    "    plot(time,Z['st'][0,s])\n",
    "\n",
    "dZ = amax(Z['st'])-amin(Z['st'])\n",
    "imshow(significance_masks['st'][0][None,:],extent=[0,250,amin(Z['st'])-dZ/10.,amin(Z['st'])-dZ/5.],aspect='auto',cmap='gray_r',vmin=0,vmax=1)\n",
    "ylim([amin(Z['st'])-dZ/10.,amax(Z['st'])+dZ/10.])\n",
    "    \n",
    "title('1st mixing component')\n",
    "show()"
   ]
  },
  {
   "cell_type": "code",
   "execution_count": null,
   "metadata": {},
   "outputs": [],
   "source": []
  }
 ],
 "metadata": {
  "kernelspec": {
   "display_name": "Python 3 (ipykernel)",
   "language": "python",
   "name": "python3"
  },
  "language_info": {
   "codemirror_mode": {
    "name": "ipython",
    "version": 3
   },
   "file_extension": ".py",
   "mimetype": "text/x-python",
   "name": "python",
   "nbconvert_exporter": "python",
   "pygments_lexer": "ipython3",
   "version": "3.12.3"
  }
 },
 "nbformat": 4,
 "nbformat_minor": 4
}
